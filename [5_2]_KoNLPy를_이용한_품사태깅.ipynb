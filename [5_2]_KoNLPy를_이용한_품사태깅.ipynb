{
  "nbformat": 4,
  "nbformat_minor": 0,
  "metadata": {
    "colab": {
      "provenance": [],
      "include_colab_link": true
    },
    "kernelspec": {
      "name": "python3",
      "display_name": "Python 3"
    }
  },
  "cells": [
    {
      "cell_type": "markdown",
      "metadata": {
        "id": "view-in-github",
        "colab_type": "text"
      },
      "source": [
        "<a href=\"https://colab.research.google.com/github/joony0512/Stastistics-and-NLP/blob/main/%5B5_2%5D_KoNLPy%EB%A5%BC_%EC%9D%B4%EC%9A%A9%ED%95%9C_%ED%92%88%EC%82%AC%ED%83%9C%EA%B9%85.ipynb\" target=\"_parent\"><img src=\"https://colab.research.google.com/assets/colab-badge.svg\" alt=\"Open In Colab\"/></a>"
      ]
    },
    {
      "cell_type": "code",
      "metadata": {
        "id": "4x5w30ABA6W-",
        "colab": {
          "base_uri": "https://localhost:8080/"
        },
        "outputId": "58b46803-faa8-4ecf-d51a-4d84e5fbc591"
      },
      "source": [
        "# konlpy 패키지 다운로드\n",
        "!pip install konlpy"
      ],
      "execution_count": null,
      "outputs": [
        {
          "output_type": "stream",
          "name": "stdout",
          "text": [
            "Looking in indexes: https://pypi.org/simple, https://us-python.pkg.dev/colab-wheels/public/simple/\n",
            "Collecting konlpy\n",
            "  Downloading konlpy-0.6.0-py2.py3-none-any.whl (19.4 MB)\n",
            "\u001b[K     |████████████████████████████████| 19.4 MB 1.3 MB/s \n",
            "\u001b[?25hCollecting JPype1>=0.7.0\n",
            "  Downloading JPype1-1.4.0-cp37-cp37m-manylinux_2_5_x86_64.manylinux1_x86_64.whl (453 kB)\n",
            "\u001b[K     |████████████████████████████████| 453 kB 54.2 MB/s \n",
            "\u001b[?25hRequirement already satisfied: lxml>=4.1.0 in /usr/local/lib/python3.7/dist-packages (from konlpy) (4.9.1)\n",
            "Requirement already satisfied: numpy>=1.6 in /usr/local/lib/python3.7/dist-packages (from konlpy) (1.21.6)\n",
            "Requirement already satisfied: typing-extensions in /usr/local/lib/python3.7/dist-packages (from JPype1>=0.7.0->konlpy) (4.1.1)\n",
            "Installing collected packages: JPype1, konlpy\n",
            "Successfully installed JPype1-1.4.0 konlpy-0.6.0\n"
          ]
        }
      ]
    },
    {
      "cell_type": "code",
      "metadata": {
        "id": "1jR6wW_JA_Qs"
      },
      "source": [
        "# konlpy 관련 패키지 import\n",
        "from konlpy.tag import Okt\n",
        "from konlpy.tag import Kkma\n",
        "from konlpy.tag import Hannanum\n",
        "from konlpy.tag import Komoran\n",
        "from konlpy.tag import Twitter"
      ],
      "execution_count": null,
      "outputs": []
    },
    {
      "cell_type": "code",
      "metadata": {
        "id": "S6r8MNlmBDj8",
        "colab": {
          "base_uri": "https://localhost:8080/"
        },
        "outputId": "8f589258-0852-4838-d7a3-0fbff656fac8"
      },
      "source": [
        "kkma = Kkma()\n",
        "okt = Okt()\n",
        "komoran = Komoran()\n",
        "hannanum = Hannanum()\n",
        "twitter = Twitter()"
      ],
      "execution_count": null,
      "outputs": [
        {
          "output_type": "stream",
          "name": "stderr",
          "text": [
            "/usr/local/lib/python3.7/dist-packages/konlpy/tag/_okt.py:17: UserWarning: \"Twitter\" has changed to \"Okt\" since KoNLPy v0.4.5.\n",
            "  warn('\"Twitter\" has changed to \"Okt\" since KoNLPy v0.4.5.')\n"
          ]
        }
      ]
    },
    {
      "cell_type": "code",
      "metadata": {
        "id": "hJHwLeqMBECg",
        "colab": {
          "base_uri": "https://localhost:8080/"
        },
        "outputId": "709c7851-eb62-45e8-b34a-b92a0c5e8b6f"
      },
      "source": [
        "# konlpy 의 라이브러리 품사태깅 비교\n",
        "print(\"okt 품사태깅 :\", okt.pos(u\"집에 가면 감자 좀 쪄줄래?\"))\n",
        "print(\"kkma 품사태깅 : \", kkma.pos(u\"집에 가면 감자 좀 쪄줄래?\"))\n",
        "print(\"hannanum 품사태깅 : \", hannanum.pos(u\"집에 가면 감자 좀 쪄줄래?\"))\n",
        "print(\"komoran 품사태깅 : \", komoran.pos(u\"집에 가면 감자 좀 쪄줄래?\"))\n",
        "print(\"twitter 품사태깅 : \", twitter.pos(u\"집에 가면 감자 좀 쪄줄래?\"))"
      ],
      "execution_count": null,
      "outputs": [
        {
          "output_type": "stream",
          "name": "stdout",
          "text": [
            "okt 품사태깅 : [('집', 'Noun'), ('에', 'Josa'), ('가면', 'Noun'), ('감자', 'Noun'), ('좀', 'Noun'), ('쪄줄래', 'Verb'), ('?', 'Punctuation')]\n",
            "kkma 품사태깅 :  [('집', 'NNG'), ('에', 'JKM'), ('가', 'VV'), ('면', 'ECE'), ('감자', 'NNG'), ('좀', 'MAG'), ('찌', 'VV'), ('어', 'ECS'), ('주', 'VXV'), ('ㄹ래', 'EFQ'), ('?', 'SF')]\n",
            "hannanum 품사태깅 :  [('집', 'N'), ('에', 'J'), ('가', 'P'), ('면', 'E'), ('감', 'P'), ('자', 'E'), ('좀', 'M'), ('찌', 'P'), ('어', 'E'), ('줄', 'P'), ('래', 'E'), ('?', 'S')]\n",
            "komoran 품사태깅 :  [('집', 'NNG'), ('에', 'JKB'), ('가', 'VV'), ('면', 'EC'), ('감자', 'NNP'), ('좀', 'MAG'), ('찌', 'VV'), ('어', 'EC'), ('주', 'VX'), ('ㄹ래', 'EF'), ('?', 'SF')]\n",
            "twitter 품사태깅 :  [('집', 'Noun'), ('에', 'Josa'), ('가면', 'Noun'), ('감자', 'Noun'), ('좀', 'Noun'), ('쪄줄래', 'Verb'), ('?', 'Punctuation')]\n"
          ]
        }
      ]
    },
    {
      "cell_type": "code",
      "source": [
        "\n",
        "# konlpy 의 라이브러리 품사태깅 비교\n",
        "print(\"okt 품사태깅 :\", okt.pos(u\"아버지가 방에 들어 가신다\"))\n",
        "print(\"kkma 품사태깅 : \", kkma.pos(u\"아버지가 방에 들어 가신다\"))\n",
        "print(\"hannanum 품사태깅 : \", hannanum.pos(u\"아버지가 방에 들어 가신다\"))\n",
        "print(\"komoran 품사태깅 : \", komoran.pos(u\"아버지가 방에 들어 가신다\"))\n",
        "print(\"twitter 품사태깅 : \", twitter.pos(u\"아버지가 방에 들어 가신다\"))"
      ],
      "metadata": {
        "colab": {
          "base_uri": "https://localhost:8080/"
        },
        "id": "xDFUj85swIrR",
        "outputId": "955ac93e-8c05-483f-a151-38640947c1a2"
      },
      "execution_count": null,
      "outputs": [
        {
          "output_type": "stream",
          "name": "stdout",
          "text": [
            "okt 품사태깅 : [('아버지', 'Noun'), ('가', 'Josa'), ('방', 'Noun'), ('에', 'Josa'), ('들어', 'Verb'), ('가신다', 'Verb')]\n",
            "kkma 품사태깅 :  [('아버지', 'NNG'), ('가', 'JKS'), ('방', 'NNG'), ('에', 'JKM'), ('듣', 'VV'), ('어', 'ECD'), ('가시', 'VV'), ('ㄴ다', 'EFN')]\n",
            "hannanum 품사태깅 :  [('아버지', 'N'), ('가', 'J'), ('방', 'N'), ('에', 'J'), ('들', 'P'), ('어', 'E'), ('갈', 'P'), ('시ㄴ다', 'E')]\n",
            "komoran 품사태깅 :  [('아버지', 'NNG'), ('가', 'JKS'), ('방', 'NNG'), ('에', 'JKB'), ('들', 'VV'), ('어', 'EC'), ('가시', 'VV'), ('ㄴ다', 'EC')]\n",
            "twitter 품사태깅 :  [('아버지', 'Noun'), ('가', 'Josa'), ('방', 'Noun'), ('에', 'Josa'), ('들어', 'Verb'), ('가신다', 'Verb')]\n"
          ]
        }
      ]
    },
    {
      "cell_type": "code",
      "source": [],
      "metadata": {
        "id": "Yh-D4xesxBkp"
      },
      "execution_count": null,
      "outputs": []
    }
  ]
}