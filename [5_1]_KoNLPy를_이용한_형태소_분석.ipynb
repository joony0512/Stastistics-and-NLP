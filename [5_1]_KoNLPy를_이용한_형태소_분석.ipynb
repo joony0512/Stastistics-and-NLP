{
  "nbformat": 4,
  "nbformat_minor": 0,
  "metadata": {
    "colab": {
      "provenance": [],
      "include_colab_link": true
    },
    "kernelspec": {
      "name": "python3",
      "display_name": "Python 3"
    }
  },
  "cells": [
    {
      "cell_type": "markdown",
      "metadata": {
        "id": "view-in-github",
        "colab_type": "text"
      },
      "source": [
        "<a href=\"https://colab.research.google.com/github/joony0512/Stastistics-and-NLP/blob/main/%5B5_1%5D_KoNLPy%EB%A5%BC_%EC%9D%B4%EC%9A%A9%ED%95%9C_%ED%98%95%ED%83%9C%EC%86%8C_%EB%B6%84%EC%84%9D.ipynb\" target=\"_parent\"><img src=\"https://colab.research.google.com/assets/colab-badge.svg\" alt=\"Open In Colab\"/></a>"
      ]
    },
    {
      "cell_type": "code",
      "metadata": {
        "id": "oWgM3O12bEAo",
        "outputId": "4fd2472e-5e5c-40c5-d9eb-311c2ee89b13",
        "colab": {
          "base_uri": "https://localhost:8080/"
        }
      },
      "source": [
        "# konlpy 패키지 다운로드\n",
        "!pip install konlpy"
      ],
      "execution_count": null,
      "outputs": [
        {
          "output_type": "stream",
          "name": "stdout",
          "text": [
            "Looking in indexes: https://pypi.org/simple, https://us-python.pkg.dev/colab-wheels/public/simple/\n",
            "Collecting konlpy\n",
            "  Downloading konlpy-0.6.0-py2.py3-none-any.whl (19.4 MB)\n",
            "\u001b[K     |████████████████████████████████| 19.4 MB 1.0 MB/s \n",
            "\u001b[?25hCollecting JPype1>=0.7.0\n",
            "  Downloading JPype1-1.4.0-cp37-cp37m-manylinux_2_5_x86_64.manylinux1_x86_64.whl (453 kB)\n",
            "\u001b[K     |████████████████████████████████| 453 kB 52.9 MB/s \n",
            "\u001b[?25hRequirement already satisfied: numpy>=1.6 in /usr/local/lib/python3.7/dist-packages (from konlpy) (1.21.6)\n",
            "Requirement already satisfied: lxml>=4.1.0 in /usr/local/lib/python3.7/dist-packages (from konlpy) (4.9.1)\n",
            "Requirement already satisfied: typing-extensions in /usr/local/lib/python3.7/dist-packages (from JPype1>=0.7.0->konlpy) (4.1.1)\n",
            "Installing collected packages: JPype1, konlpy\n",
            "Successfully installed JPype1-1.4.0 konlpy-0.6.0\n"
          ]
        }
      ]
    },
    {
      "cell_type": "code",
      "metadata": {
        "id": "0tf3AnN9bLoy"
      },
      "source": [
        "# konlpy 관련 패키지 import\n",
        "from konlpy.tag import Okt\n",
        "from konlpy.tag import Kkma\n",
        "from konlpy.tag import Hannanum\n",
        "from konlpy.tag import Komoran\n",
        "from konlpy.tag import Twitter"
      ],
      "execution_count": null,
      "outputs": []
    },
    {
      "cell_type": "code",
      "metadata": {
        "id": "d6UXcU-YoAFm",
        "outputId": "6d3f0a77-0f75-40e5-a9b1-fc5ee2845cd7",
        "colab": {
          "base_uri": "https://localhost:8080/"
        }
      },
      "source": [
        "kkma = Kkma()\n",
        "okt = Okt()\n",
        "komoran = Komoran()\n",
        "hannanum = Hannanum()\n",
        "twitter = Twitter()"
      ],
      "execution_count": null,
      "outputs": [
        {
          "output_type": "stream",
          "name": "stderr",
          "text": [
            "/usr/local/lib/python3.7/dist-packages/konlpy/tag/_okt.py:17: UserWarning: \"Twitter\" has changed to \"Okt\" since KoNLPy v0.4.5.\n",
            "  warn('\"Twitter\" has changed to \"Okt\" since KoNLPy v0.4.5.')\n"
          ]
        }
      ]
    },
    {
      "cell_type": "code",
      "metadata": {
        "id": "5JPw0rsmoEfv",
        "outputId": "8a227c15-4ae8-405d-f01c-b39722735410",
        "colab": {
          "base_uri": "https://localhost:8080/"
        }
      },
      "source": [
        "# konlpy 중 Kkma는 문장 분리가 가능 (다른 라이브러리는 되지 않음)\n",
        "print (\"kkma 문장 분리 : \", kkma.sentences('네 안녕하세요 반갑습니다.'))"
      ],
      "execution_count": null,
      "outputs": [
        {
          "output_type": "stream",
          "name": "stdout",
          "text": [
            "kkma 문장 분리 :  ['네 안녕하세요', '반갑습니다.']\n"
          ]
        }
      ]
    },
    {
      "cell_type": "code",
      "metadata": {
        "id": "FioVzRV-oFnl",
        "outputId": "3da7b214-bdf6-4d65-bcc8-c6ccd7ae3660",
        "colab": {
          "base_uri": "https://localhost:8080/"
        }
      },
      "source": [
        "# konlpy 의 라이브러리 형태소 분석 비교\n",
        "print(\"okt 형태소 분석 :\", okt.morphs(u\"집에 가면 감자 좀 쪄줄래?\"))\n",
        "print(\"kkma 형태소 분석 : \", kkma.morphs(u\"집에 가면 감자 좀 쪄줄래?\"))\n",
        "print(\"hannanum 형태소 분석 : \", hannanum.morphs(u\"집에 가면 감자 좀 쪄줄래?\"))\n",
        "print(\"komoran 형태소 분석 : \", komoran.morphs(u\"집에 가면 감자 좀 쪄줄래?\"))\n",
        "print(\"twitter 형태소 분석 : \", twitter.morphs(u\"집에 가면 감자 좀 쪄줄래?\"))"
      ],
      "execution_count": null,
      "outputs": [
        {
          "output_type": "stream",
          "name": "stdout",
          "text": [
            "okt 형태소 분석 : ['집', '에', '가면', '감자', '좀', '쪄줄래', '?']\n",
            "kkma 형태소 분석 :  ['집', '에', '가', '면', '감자', '좀', '찌', '어', '주', 'ㄹ래', '?']\n",
            "hannanum 형태소 분석 :  ['집', '에', '가', '면', '감', '자', '좀', '찌', '어', '줄', '래', '?']\n",
            "komoran 형태소 분석 :  ['집', '에', '가', '면', '감자', '좀', '찌', '어', '주', 'ㄹ래', '?']\n",
            "twitter 형태소 분석 :  ['집', '에', '가면', '감자', '좀', '쪄줄래', '?']\n"
          ]
        }
      ]
    },
    {
      "cell_type": "code",
      "source": [
        " #konlpy 의 라이브러리 형태소 분석 비교\n",
        "print(\"okt 형태소 분석 :\", okt.morphs(u\"갈대는 바람에 꺾이지 않는다\"))\n",
        "print(\"kkma 형태소 분석 : \", kkma.morphs(u\"갈대는 바람에 꺾이지 않는다\"))\n",
        "print(\"hannanum 형태소 분석 : \", hannanum.morphs(u\"갈대는 바람에 꺾이지 않는다\"))\n",
        "print(\"komoran 형태소 분석 : \", komoran.morphs(u\"갈대는 바람에 꺾이지 않는다\"))\n",
        "print(\"twitter 형태소 분석 : \", twitter.morphs(u\"갈대는 바람에 꺾이지 않는다\"))"
      ],
      "metadata": {
        "colab": {
          "base_uri": "https://localhost:8080/"
        },
        "id": "OkM7d6D0ACy5",
        "outputId": "af1ac93e-befd-466d-ba2b-ddc2629e22d4"
      },
      "execution_count": null,
      "outputs": [
        {
          "output_type": "stream",
          "name": "stdout",
          "text": [
            "okt 형태소 분석 : ['갈대', '는', '바람', '에', '꺾이지', '않는다']\n",
            "kkma 형태소 분석 :  ['갈대', '는', '바람', '에', '꺾이', '지', '않', '는', '다']\n",
            "hannanum 형태소 분석 :  ['갈대', '는', '바라', 'ㅁ', '에', '꺾이', '지', '않', '는다']\n",
            "komoran 형태소 분석 :  ['갈대', '는', '바람', '에', '꺾이', '지', '않', '는다']\n",
            "twitter 형태소 분석 :  ['갈대', '는', '바람', '에', '꺾이지', '않는다']\n"
          ]
        }
      ]
    },
    {
      "cell_type": "code",
      "source": [
        "print(\"okt 형태소 분석 :\", okt.morphs(u\"아버지가방에들어가신다\"))\n",
        "print(\"kkma 형태소 분석 : \", kkma.morphs(u\"아버지가방에들어가신다\"))\n",
        "print(\"hannanum 형태소 분석 : \", hannanum.morphs(u\"아버지가방에들어가신다\"))\n",
        "print(\"komoran 형태소 분석 : \", komoran.morphs(u\"아버지가방에들어가신다\"))\n",
        "print(\"twitter 형태소 분석 : \", twitter.morphs(u\"아버지가방에들어가신다\"))"
      ],
      "metadata": {
        "id": "jeRIJ_uG_rpc",
        "colab": {
          "base_uri": "https://localhost:8080/"
        },
        "outputId": "1f7f390c-735a-4767-8db1-f0f0cd73252f"
      },
      "execution_count": null,
      "outputs": [
        {
          "output_type": "stream",
          "name": "stdout",
          "text": [
            "okt 형태소 분석 : ['아버지', '가방', '에', '들어가신다']\n",
            "kkma 형태소 분석 :  ['아버지', '가방', '에', '들어가', '시', 'ㄴ다']\n",
            "hannanum 형태소 분석 :  ['아버지가방에들어가', '이', '시ㄴ다']\n",
            "komoran 형태소 분석 :  ['아버지', '가방', '에', '들어가', '시', 'ㄴ다']\n",
            "twitter 형태소 분석 :  ['아버지', '가방', '에', '들어가신다']\n"
          ]
        }
      ]
    },
    {
      "cell_type": "code",
      "source": [],
      "metadata": {
        "id": "Sso2DoXJvZUp"
      },
      "execution_count": null,
      "outputs": []
    }
  ]
}