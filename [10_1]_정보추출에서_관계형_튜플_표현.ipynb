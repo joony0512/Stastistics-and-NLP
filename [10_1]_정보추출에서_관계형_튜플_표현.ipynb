{
  "nbformat": 4,
  "nbformat_minor": 0,
  "metadata": {
    "colab": {
      "provenance": [],
      "collapsed_sections": [],
      "include_colab_link": true
    },
    "kernelspec": {
      "name": "python3",
      "display_name": "Python 3"
    }
  },
  "cells": [
    {
      "cell_type": "markdown",
      "metadata": {
        "id": "view-in-github",
        "colab_type": "text"
      },
      "source": [
        "<a href=\"https://colab.research.google.com/github/joony0512/Statistics-and-NLP/blob/main/%5B10_1%5D_%EC%A0%95%EB%B3%B4%EC%B6%94%EC%B6%9C%EC%97%90%EC%84%9C_%EA%B4%80%EA%B3%84%ED%98%95_%ED%8A%9C%ED%94%8C_%ED%91%9C%ED%98%84.ipynb\" target=\"_parent\"><img src=\"https://colab.research.google.com/assets/colab-badge.svg\" alt=\"Open In Colab\"/></a>"
      ]
    },
    {
      "cell_type": "markdown",
      "metadata": {
        "id": "zJ96Ya4Jbahq"
      },
      "source": [
        "# **실습 10-1**"
      ]
    },
    {
      "cell_type": "code",
      "metadata": {
        "id": "R3OVX0oMYVQo"
      },
      "source": [
        "# [표11-1]의 예를 바탕으로 한 구조화된 데이터\n",
        "locs = [('고려대학교', 'In', '서울'),\n",
        "        ('Naver', 'In', '성남'),\n",
        "        ('KT 위즈', 'In', '수원'),\n",
        "        ('한화 이글스', 'In', '대전'),\n",
        "        ('NC 소프트', 'In', '성남'),\n",
        "        ('삼성', 'In', '서울')]       "
      ],
      "execution_count": null,
      "outputs": []
    },
    {
      "cell_type": "code",
      "metadata": {
        "id": "BPLJyN7gYzts",
        "outputId": "635a08af-ec5a-400a-d0f4-1edeb77f86e9",
        "colab": {
          "base_uri": "https://localhost:8080/"
        }
      },
      "source": [
        "# 서울에 있는 기관 출력 \n",
        "query = []\n",
        "\n",
        "for (e1, rel, e2) in locs:\n",
        "  if e2=='서울':\n",
        "    query.append(e1)\n",
        "\n",
        "print(query)"
      ],
      "execution_count": null,
      "outputs": [
        {
          "output_type": "stream",
          "name": "stdout",
          "text": [
            "['고려대학교', '삼성']\n"
          ]
        }
      ]
    }
  ]
}